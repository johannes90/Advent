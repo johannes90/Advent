{
 "cells": [
  {
   "cell_type": "code",
   "execution_count": 10,
   "metadata": {},
   "outputs": [
    {
     "name": "stdout",
     "output_type": "stream",
     "text": [
      "(153,)\n",
      "[3562672      12       2       2       1       1       2       3       1\n",
      "       3       4       3       1       5       0       3       2       1\n",
      "       9      36       1       5      19      37       1       6      23\n",
      "      39       1      27      10      43       1      31       5      44\n",
      "       2      10      35     176       1       9      39     179       1\n",
      "      43       5     180       1      47       6     182       2      51\n",
      "       6     364       1      13      55     369       2       6      59\n",
      "     738       1      63       5     739       2      10      67    2956\n",
      "       1       9      71    2959       1      75      13    2964       1\n",
      "      10      79    2968       2      83      13   14840       1      87\n",
      "       6   14842       1       5      91   14843       2      95       9\n",
      "   44529       1       5      99   44530       1     103       6   44532\n",
      "       2     107      13  222660       1     111      10  222664       2\n",
      "      10     115  890656       1       9     119  890659       1     123\n",
      "       9  890662       1      13     127  890667       2      10     131\n",
      " 3562668       1     135       5 3562669       1       2     139 3562671\n",
      "       1     143       5       0      99       2       0      14       0]\n"
     ]
    }
   ],
   "source": [
    "\"\"\"\n",
    "Day 2: 1202 Program Alarm\n",
    "\n",
    "List of integers\n",
    "first integer opcode 1,2 or 99, then 3 positions\n",
    "1 - add two positions, stores result in third position\n",
    "2 - multiply\n",
    "99 - finish\n",
    "unknown: s.th. went wrong\n",
    "\n",
    "\"\"\"\n",
    "\n",
    "import numpy as np \n",
    "\n",
    "data = np.array([1,12,2,3,1,1,2,3,1,3,4,3,1,5,0,3,2,1,9,19,1,5,19,23,1,6,23,27,1,27,10,31,1,31,5,35,2,10,35,39,1,9,39,43,1,43,5,47,1,47,6,51,2,51,6,55,1,13,55,59,2,6,59,63,1,63,5,67,2,10,67,71,1,9,71,75,1,75,13,79,1,10,79,83,2,83,13,87,1,87,6,91,1,5,91,95,2,95,9,99,1,5,99,103,1,103,6,107,2,107,13,111,1,111,10,115,2,10,115,119,1,9,119,123,1,123,9,127,1,13,127,131,2,10,131,135,1,135,5,139,1,2,139,143,1,143,5,0,99,2,0,14,0])\n",
    "print(data.shape)\n",
    "i = 0\n",
    "while data[i] != 99:\n",
    "   # print(i)\n",
    "    if data[i] == 1:\n",
    "        result = data[data[i+1]] + data[data[i+2]]\n",
    "        \n",
    "    elif data[i] == 2:\n",
    "        result = data[data[i+1]] * data[data[i+2]]\n",
    "\n",
    "    else:\n",
    "        print(\"somethin went wrong\")\n",
    "        break\n",
    "        \n",
    "    # Put result at the index of second position after opcode    \n",
    "    data[data[i+3]] = result\n",
    "    \n",
    "    i += 4\n",
    "    \n",
    "print(data)"
   ]
  },
  {
   "cell_type": "code",
   "execution_count": 14,
   "metadata": {},
   "outputs": [
    {
     "name": "stdout",
     "output_type": "stream",
     "text": [
      "82 50\n",
      "solution = 8250\n"
     ]
    }
   ],
   "source": [
    "\"\"\"\n",
    "Day 2: 1202 Program Alarm - Part 2:\n",
    "opcode as before, then instruction\n",
    "\n",
    "\n",
    "\"\"\"\n",
    "for noun in range(100):\n",
    "    for verb in range(100):\n",
    "        data = np.array([1,noun,verb,3,1,1,2,3,1,3,4,3,1,5,0,3,2,1,9,19,1,5,19,23,1,6,23,27,1,27,10,31,1,31,5,35,2,10,35,39,1,9,39,43,1,43,5,47,1,47,6,51,2,51,6,55,1,13,55,59,2,6,59,63,1,63,5,67,2,10,67,71,1,9,71,75,1,75,13,79,1,10,79,83,2,83,13,87,1,87,6,91,1,5,91,95,2,95,9,99,1,5,99,103,1,103,6,107,2,107,13,111,1,111,10,115,2,10,115,119,1,9,119,123,1,123,9,127,1,13,127,131,2,10,131,135,1,135,5,139,1,2,139,143,1,143,5,0,99,2,0,14,0])\n",
    "\n",
    "\n",
    "        i = 0\n",
    "\n",
    "        while data[i] != 99:\n",
    "           # print(i)\n",
    "            if data[i] == 1:\n",
    "                result = data[data[i+1]] + data[data[i+2]]\n",
    "\n",
    "            elif data[i] == 2:\n",
    "                result = data[data[i+1]] * data[data[i+2]]\n",
    "\n",
    "            else:\n",
    "                print(\"somethin went wrong\")\n",
    "                break\n",
    "\n",
    "            # Put result at the index of second position after opcode    \n",
    "            data[data[i+3]] = result\n",
    "            \n",
    "            i += 4\n",
    "\n",
    "        if data[0] == 19690720:\n",
    "            print(str(noun) + \" \" + str(verb))\n",
    "            print(\"solution =\", 100*noun + verb)\n"
   ]
  },
  {
   "cell_type": "code",
   "execution_count": null,
   "metadata": {},
   "outputs": [],
   "source": []
  }
 ],
 "metadata": {
  "kernelspec": {
   "display_name": "Python 3",
   "language": "python",
   "name": "python3"
  },
  "language_info": {
   "codemirror_mode": {
    "name": "ipython",
    "version": 3
   },
   "file_extension": ".py",
   "mimetype": "text/x-python",
   "name": "python",
   "nbconvert_exporter": "python",
   "pygments_lexer": "ipython3",
   "version": "3.7.0"
  }
 },
 "nbformat": 4,
 "nbformat_minor": 2
}
