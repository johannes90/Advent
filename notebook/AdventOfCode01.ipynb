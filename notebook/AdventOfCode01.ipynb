{
 "cells": [
  {
   "cell_type": "code",
   "execution_count": 1,
   "metadata": {},
   "outputs": [
    {
     "name": "stdout",
     "output_type": "stream",
     "text": [
      "(100,)\n",
      "3256599.0\n"
     ]
    }
   ],
   "source": [
    "\"\"\" \n",
    "Advent of code day 1:\n",
    "\n",
    "Part 1: Determine amount of fuel\n",
    "the fuel for one module is based on its mass\n",
    "\n",
    "fuel = int(mass/3) - 2\n",
    "\n",
    "-> calculate fuel for every module(=puzzle input)\n",
    "\"\"\" \n",
    "# imports\n",
    "import numpy as np\n",
    "\n",
    "# load module data\n",
    "module_masses = np.asarray([76663,\n",
    "111378,\n",
    "132647,\n",
    "115688,\n",
    "67473,\n",
    "85562,\n",
    "62955,\n",
    "64052,\n",
    "104961,\n",
    "128687,\n",
    "60344,\n",
    "81158,\n",
    "129984,\n",
    "106462,\n",
    "55967,\n",
    "130004,\n",
    "140810,\n",
    "71523,\n",
    "64891,\n",
    "142922,\n",
    "122783,\n",
    "123918,\n",
    "116246,\n",
    "120842,\n",
    "105578,\n",
    "122950,\n",
    "107512,\n",
    "70051,\n",
    "55347,\n",
    "54348,\n",
    "89301,\n",
    "95258,\n",
    "122323,\n",
    "136781,\n",
    "137756,\n",
    "95658,\n",
    "91017,\n",
    "79626,\n",
    "98414,\n",
    "79296,\n",
    "75226,\n",
    "143850,\n",
    "131334,\n",
    "107028,\n",
    "76591,\n",
    "75492,\n",
    "66400,\n",
    "51904,\n",
    "79262,\n",
    "68956,\n",
    "98957,\n",
    "52481,\n",
    "87955,\n",
    "118871,\n",
    "148734,\n",
    "103699,\n",
    "68681,\n",
    "55118,\n",
    "144120,\n",
    "59403,\n",
    "115012,\n",
    "147742,\n",
    "124218,\n",
    "73580,\n",
    "114949,\n",
    "65346,\n",
    "113104,\n",
    "129059,\n",
    "119068,\n",
    "72339,\n",
    "74984,\n",
    "53095,\n",
    "127452,\n",
    "133786,\n",
    "111439,\n",
    "98153,\n",
    "96312,\n",
    "139641,\n",
    "88907,\n",
    "136831,\n",
    "73574,\n",
    "67871,\n",
    "57641,\n",
    "134505,\n",
    "72116,\n",
    "134503,\n",
    "134387,\n",
    "88598,\n",
    "78687,\n",
    "61020,\n",
    "107234,\n",
    "64801,\n",
    "132668,\n",
    "60204,\n",
    "90001,\n",
    "87833,\n",
    "131148,\n",
    "61488,\n",
    "107938,\n",
    "116072])\n",
    "\n",
    "# Calculate fuel mass \n",
    "fuel = (np.floor(module_masses/3.0)-2).sum()\n",
    "\n",
    "print(fuel) # Correct!\n"
   ]
  },
  {
   "cell_type": "code",
   "execution_count": 2,
   "metadata": {
    "scrolled": true
   },
   "outputs": [
    {
     "name": "stdout",
     "output_type": "stream",
     "text": [
      "result: 4882038\n"
     ]
    }
   ],
   "source": [
    "\"\"\"\n",
    "Part 2: We forget fuel for the fuel weight\n",
    "-> For each module mass calculate fuel and add to total, take as new input \n",
    "and repeat process until fuel is zero or negative\n",
    "\"\"\"\n",
    "def compute_fuel_mass(module_mass, fuel_mass=0):\n",
    "    \n",
    "    while (np.floor(module_mass/3.0)-2) >0:\n",
    "        module_mass = (np.floor(module_mass/3.0)-2)\n",
    "        fuel_mass +=module_mass\n",
    "    \n",
    "    return int(fuel_mass)\n",
    "    \n",
    "# Use the map() function in order to apply the operation to each element\n",
    "fuel_masses = list(map(compute_fuel_mass, module_masses)) \n",
    "\n",
    "# Add up individual masses to obtain total weight\n",
    "print(\"result: \" + str(sum(fuel_masses))) # Correct!"
   ]
  },
  {
   "cell_type": "code",
   "execution_count": 3,
   "metadata": {},
   "outputs": [
    {
     "name": "stdout",
     "output_type": "stream",
     "text": [
      "result: 4882038.0\n"
     ]
    }
   ],
   "source": [
    "\"\"\"\n",
    "Part 2: We forget fuel for the fuel weight\n",
    "-> For each module mass calculate fuel and add to total, take as new input \n",
    "and repeat process until fuel is zero or negative\n",
    "\"\"\"\n",
    "def compute_fuel_mass(module_mass):\n",
    "    \n",
    "    if (np.floor(module_mass/3.0)-2).sum() >0:\n",
    "        module_mass = (np.floor(module_mass/3.0)-2) + compute_fuel_mass((np.floor(module_mass/3.0)-2))\n",
    "    else:    \n",
    "        return 0\n",
    "\n",
    "    return module_mass\n",
    "\n",
    "# Use the map() function in order to apply the operation to each element\n",
    "fuel_masses = list(map(compute_fuel_mass, module_masses)) \n",
    "\n",
    "# Now add up the masses to obtain total weight\n",
    "print(\"result: \" +  str(sum(fuel_masses))) # Correct!"
   ]
  },
  {
   "cell_type": "code",
   "execution_count": null,
   "metadata": {},
   "outputs": [],
   "source": []
  },
  {
   "cell_type": "code",
   "execution_count": null,
   "metadata": {},
   "outputs": [],
   "source": []
  }
 ],
 "metadata": {
  "kernelspec": {
   "display_name": "Python 3",
   "language": "python",
   "name": "python3"
  },
  "language_info": {
   "codemirror_mode": {
    "name": "ipython",
    "version": 3
   },
   "file_extension": ".py",
   "mimetype": "text/x-python",
   "name": "python",
   "nbconvert_exporter": "python",
   "pygments_lexer": "ipython3",
   "version": "3.7.0"
  }
 },
 "nbformat": 4,
 "nbformat_minor": 2
}
